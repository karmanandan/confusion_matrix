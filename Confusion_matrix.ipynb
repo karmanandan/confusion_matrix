{
  "cells": [
    {
      "cell_type": "markdown",
      "metadata": {
        "id": "view-in-github",
        "colab_type": "text"
      },
      "source": [
        "<a href=\"https://colab.research.google.com/github/karmanandan/confuson_matrix/blob/main/Confusion_matrix.ipynb\" target=\"_parent\"><img src=\"https://colab.research.google.com/assets/colab-badge.svg\" alt=\"Open In Colab\"/></a>"
      ]
    },
    {
      "cell_type": "markdown",
      "source": [
        "# Confusion matrix"
      ],
      "metadata": {
        "id": "ECV5ndidFEx2"
      }
    },
    {
      "cell_type": "code",
      "source": [],
      "metadata": {
        "id": "9oc32OswFX_M"
      },
      "execution_count": null,
      "outputs": []
    },
    {
      "cell_type": "markdown",
      "source": [
        "![Confusion-matrix-and-common-performance-metrics-calculated-from-it.ppm](data:application/octet-stream;base64,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)"
      ],
      "metadata": {
        "id": "n4hwKS4EFfsb"
      }
    },
    {
      "cell_type": "code",
      "execution_count": null,
      "metadata": {
        "id": "lIYdn1woOS1n"
      },
      "outputs": [],
      "source": [
        "import numpy as np\n",
        "values = np.array([[24, 3],[8,65]])"
      ]
    },
    {
      "cell_type": "code",
      "source": [
        "values"
      ],
      "metadata": {
        "id": "aGf-ooA4758o",
        "outputId": "2770ff4a-1aec-4761-f50e-e92af57d04e2",
        "colab": {
          "base_uri": "https://localhost:8080/"
        }
      },
      "execution_count": null,
      "outputs": [
        {
          "output_type": "execute_result",
          "data": {
            "text/plain": [
              "array([[24,  3],\n",
              "       [ 8, 65]])"
            ]
          },
          "metadata": {},
          "execution_count": 2
        }
      ]
    },
    {
      "cell_type": "code",
      "source": [
        "tp,fp, fn, tn = values.ravel()\n",
        "print(f'tn->{tn}, fp->{fp}, fn->{fn}, tp->{tp}')"
      ],
      "metadata": {
        "id": "yXIXgMVk8C40",
        "outputId": "dbad15f2-b0ad-4c5c-d108-86b9d8754ee7",
        "colab": {
          "base_uri": "https://localhost:8080/"
        }
      },
      "execution_count": null,
      "outputs": [
        {
          "output_type": "stream",
          "name": "stdout",
          "text": [
            "tn->65, fp->3, fn->8, tp->24\n"
          ]
        }
      ]
    },
    {
      "cell_type": "markdown",
      "source": [
        "# Accuray"
      ],
      "metadata": {
        "id": "y2KAIPxmAjL0"
      }
    },
    {
      "cell_type": "code",
      "source": [
        "accuracy = (tp+tn)/(tp+fp+tn+fn)\n",
        "print(f'accuracy ->{accuracy}')"
      ],
      "metadata": {
        "id": "XvaoHW1B8NiT",
        "outputId": "265a1aca-a6a3-4a8f-a791-53de51c057b2",
        "colab": {
          "base_uri": "https://localhost:8080/"
        }
      },
      "execution_count": null,
      "outputs": [
        {
          "output_type": "stream",
          "name": "stdout",
          "text": [
            "accuracy ->0.89\n"
          ]
        }
      ]
    },
    {
      "cell_type": "markdown",
      "source": [
        "# Precison"
      ],
      "metadata": {
        "id": "MmMzNBaeAkzs"
      }
    },
    {
      "cell_type": "code",
      "source": [
        "precison = tp/(tp+fp)\n",
        "print(f'precison ->{precison}')"
      ],
      "metadata": {
        "id": "jsAsKsD-_xl9",
        "outputId": "d1faf1cd-7531-4e6c-f5e5-2f91483fb184",
        "colab": {
          "base_uri": "https://localhost:8080/"
        }
      },
      "execution_count": null,
      "outputs": [
        {
          "output_type": "stream",
          "name": "stdout",
          "text": [
            "precison ->0.8888888888888888\n"
          ]
        }
      ]
    },
    {
      "cell_type": "markdown",
      "source": [
        "# Recall"
      ],
      "metadata": {
        "id": "bG0avgkkAnZk"
      }
    },
    {
      "cell_type": "code",
      "source": [
        "recall = tp/(tp+fn)\n",
        "print(f'recall ->{recall}')"
      ],
      "metadata": {
        "id": "CD7b25IB_3mS",
        "outputId": "29242ecc-02eb-414d-efad-b4c2bb32d083",
        "colab": {
          "base_uri": "https://localhost:8080/"
        }
      },
      "execution_count": null,
      "outputs": [
        {
          "output_type": "stream",
          "name": "stdout",
          "text": [
            "recall ->0.75\n"
          ]
        }
      ]
    },
    {
      "cell_type": "markdown",
      "source": [
        "# Error rate"
      ],
      "metadata": {
        "id": "RZYFDIdqAqaM"
      }
    },
    {
      "cell_type": "code",
      "source": [
        "error_rate = (fp+fn)/(tp+fp+tn+fn)\n",
        "print(f'error_rate ->{error_rate}')"
      ],
      "metadata": {
        "id": "QvwBRB-l_9or",
        "outputId": "7819a146-7a37-49d3-a4f6-db94a9e81433",
        "colab": {
          "base_uri": "https://localhost:8080/"
        }
      },
      "execution_count": null,
      "outputs": [
        {
          "output_type": "stream",
          "name": "stdout",
          "text": [
            "error_rate ->0.11\n"
          ]
        }
      ]
    },
    {
      "cell_type": "markdown",
      "source": [
        "\n",
        "# TPR -True Positive Rate(Sensitivity/Recall)"
      ],
      "metadata": {
        "id": "JuVxutz-AyzU"
      }
    },
    {
      "cell_type": "code",
      "source": [
        "tpr = tp/(tp+fn)\n",
        "print(f'tpr ->{tpr}')"
      ],
      "metadata": {
        "id": "eFouKLU_AzoL",
        "outputId": "6bfa5638-e147-4701-d177-d9db7bc455ad",
        "colab": {
          "base_uri": "https://localhost:8080/"
        }
      },
      "execution_count": null,
      "outputs": [
        {
          "output_type": "stream",
          "name": "stdout",
          "text": [
            "tpr ->0.75\n"
          ]
        }
      ]
    },
    {
      "cell_type": "markdown",
      "source": [
        "# TNR -True Negative Rate(Specificity)"
      ],
      "metadata": {
        "id": "dO99WmodBItU"
      }
    },
    {
      "cell_type": "code",
      "source": [
        "tnr = tn/(fp+tn)\n",
        "print(f'tnr ->{tnr}')"
      ],
      "metadata": {
        "id": "A4Hi74t3BB9z",
        "outputId": "eb99a468-690f-4fb4-8597-352e279788ee",
        "colab": {
          "base_uri": "https://localhost:8080/"
        }
      },
      "execution_count": null,
      "outputs": [
        {
          "output_type": "stream",
          "name": "stdout",
          "text": [
            "tnr ->0.9558823529411765\n"
          ]
        }
      ]
    },
    {
      "cell_type": "markdown",
      "source": [
        "# FPR (False Positive Rate(1-specificity)"
      ],
      "metadata": {
        "id": "NKDQylBRCZpM"
      }
    },
    {
      "cell_type": "code",
      "source": [
        "fpr = fp/(fp+tn)\n",
        "print(f'fpr ->{fpr}')"
      ],
      "metadata": {
        "id": "pgW6DrbHBlHr",
        "outputId": "9a41d06a-387f-4697-ad9d-a621c87f45f8",
        "colab": {
          "base_uri": "https://localhost:8080/"
        }
      },
      "execution_count": null,
      "outputs": [
        {
          "output_type": "stream",
          "name": "stdout",
          "text": [
            "fpr ->0.04411764705882353\n"
          ]
        }
      ]
    },
    {
      "cell_type": "code",
      "source": [
        "1-tnr"
      ],
      "metadata": {
        "id": "24X6koyPCqIU",
        "outputId": "ab6d0b30-f6c3-44fc-911a-2ce7da21acda",
        "colab": {
          "base_uri": "https://localhost:8080/"
        }
      },
      "execution_count": null,
      "outputs": [
        {
          "output_type": "execute_result",
          "data": {
            "text/plain": [
              "0.044117647058823484"
            ]
          },
          "metadata": {},
          "execution_count": 11
        }
      ]
    },
    {
      "cell_type": "markdown",
      "source": [
        "# F1-score"
      ],
      "metadata": {
        "id": "lGF883sJEGhs"
      }
    },
    {
      "cell_type": "code",
      "source": [
        "f1_score = 2*precison*recall/(precison+recall)\n",
        "print(f'f1_score ->{f1_score}')"
      ],
      "metadata": {
        "id": "Lfn-_US1EJ4i",
        "outputId": "753c8a5f-26bd-4ecc-8865-36e0e5e8003a",
        "colab": {
          "base_uri": "https://localhost:8080/"
        }
      },
      "execution_count": null,
      "outputs": [
        {
          "output_type": "stream",
          "name": "stdout",
          "text": [
            "f1_score ->0.8135593220338982\n"
          ]
        }
      ]
    },
    {
      "cell_type": "code",
      "source": [],
      "metadata": {
        "id": "x-7OeannEVIy"
      },
      "execution_count": null,
      "outputs": []
    }
  ],
  "metadata": {
    "colab": {
      "provenance": [],
      "include_colab_link": true
    },
    "kernelspec": {
      "display_name": "Python 3",
      "name": "python3"
    }
  },
  "nbformat": 4,
  "nbformat_minor": 0
}